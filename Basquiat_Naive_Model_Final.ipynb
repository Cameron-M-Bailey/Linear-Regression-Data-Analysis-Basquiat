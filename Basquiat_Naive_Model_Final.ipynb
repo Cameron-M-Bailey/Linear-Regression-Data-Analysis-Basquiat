{
 "cells": [
  {
   "cell_type": "markdown",
   "id": "589e7670",
   "metadata": {},
   "source": [
    "# Building a Baseline Model"
   ]
  },
  {
   "cell_type": "code",
   "execution_count": 1,
   "id": "e47d1b80",
   "metadata": {},
   "outputs": [],
   "source": [
    "import pandas as pd\n",
    "import numpy as np\n",
    "import matplotlib.pyplot as plt\n",
    "import seaborn as sns\n",
    "%matplotlib inline"
   ]
  },
  {
   "cell_type": "code",
   "execution_count": 2,
   "id": "eed41932",
   "metadata": {},
   "outputs": [],
   "source": [
    "# Read dataset\n",
    "df = pd.read_csv('Basquiat_Dataset.csv')"
   ]
  },
  {
   "cell_type": "code",
   "execution_count": 3,
   "id": "07d8de4e",
   "metadata": {},
   "outputs": [],
   "source": [
    "# Rename hammer price to be more descriptive of data\n",
    "df.rename(columns={'Hammer Price':'Hammer Price (USD in millions)'},inplace=True)"
   ]
  },
  {
   "cell_type": "code",
   "execution_count": 4,
   "id": "0d6b1964",
   "metadata": {},
   "outputs": [],
   "source": [
    "# Convert hammer price to more manageable variables\n",
    "df['Hammer Price (USD in millions)']= df['Hammer Price (USD in millions)'].map(lambda x:x/1000000)"
   ]
  },
  {
   "cell_type": "code",
   "execution_count": 6,
   "id": "71f75a61",
   "metadata": {},
   "outputs": [],
   "source": [
    "# Drop unnecessary columns \n",
    "df.drop(['Title','Length (in)','Width (in)','Seller Country','Month'],axis=1,inplace=True)"
   ]
  },
  {
   "cell_type": "code",
   "execution_count": 9,
   "id": "37fa4593",
   "metadata": {},
   "outputs": [],
   "source": [
    "#Converting our categorial variables \n",
    "art_type = pd.get_dummies(df['Type'],drop_first=True)\n",
    "primary_medium = pd.get_dummies(df['Primary Medium'],drop_first=True)\n",
    "size = pd.get_dummies(df['Size'],drop_first=True)\n",
    "seller = pd.get_dummies(df['Seller '],drop_first=True)\n",
    "seller_city = pd.get_dummies(df['Seller City'],drop_first=True)"
   ]
  },
  {
   "cell_type": "code",
   "execution_count": 10,
   "id": "c40bdb48",
   "metadata": {},
   "outputs": [],
   "source": [
    "# Add dummy variables to dataframe \n",
    "df = pd.concat([df,art_type,primary_medium,size,seller,seller_city],axis=1)"
   ]
  },
  {
   "cell_type": "code",
   "execution_count": 19,
   "id": "a2b69a62",
   "metadata": {},
   "outputs": [],
   "source": [
    "# Drop converted columns \n",
    "df.drop(['Type','Primary Medium','Size','Seller ','Seller City'],axis=1,inplace=True)"
   ]
  },
  {
   "cell_type": "code",
   "execution_count": 20,
   "id": "c81cfaca",
   "metadata": {},
   "outputs": [
    {
     "data": {
      "text/html": [
       "<div>\n",
       "<style scoped>\n",
       "    .dataframe tbody tr th:only-of-type {\n",
       "        vertical-align: middle;\n",
       "    }\n",
       "\n",
       "    .dataframe tbody tr th {\n",
       "        vertical-align: top;\n",
       "    }\n",
       "\n",
       "    .dataframe thead th {\n",
       "        text-align: right;\n",
       "    }\n",
       "</style>\n",
       "<table border=\"1\" class=\"dataframe\">\n",
       "  <thead>\n",
       "    <tr style=\"text-align: right;\">\n",
       "      <th></th>\n",
       "      <th>Year Created</th>\n",
       "      <th>Area (in)</th>\n",
       "      <th>Hammer Price (USD in millions)</th>\n",
       "      <th>Year Sold</th>\n",
       "      <th>Unique Colors</th>\n",
       "      <th>Contrast Score</th>\n",
       "      <th>Brightness Score</th>\n",
       "      <th>Painting</th>\n",
       "      <th>Colored Pencils</th>\n",
       "      <th>Felt tip</th>\n",
       "      <th>...</th>\n",
       "      <th>Pencil</th>\n",
       "      <th>Wax Crayon</th>\n",
       "      <th>Medium</th>\n",
       "      <th>Small</th>\n",
       "      <th>Other</th>\n",
       "      <th>Sotheby's</th>\n",
       "      <th>London</th>\n",
       "      <th>New York City</th>\n",
       "      <th>Paris</th>\n",
       "      <th>Shanghai</th>\n",
       "    </tr>\n",
       "  </thead>\n",
       "  <tbody>\n",
       "    <tr>\n",
       "      <th>0</th>\n",
       "      <td>1982</td>\n",
       "      <td>4896</td>\n",
       "      <td>98.000</td>\n",
       "      <td>2017</td>\n",
       "      <td>462137</td>\n",
       "      <td>36.51</td>\n",
       "      <td>117.47</td>\n",
       "      <td>1</td>\n",
       "      <td>0</td>\n",
       "      <td>0</td>\n",
       "      <td>...</td>\n",
       "      <td>0</td>\n",
       "      <td>0</td>\n",
       "      <td>1</td>\n",
       "      <td>0</td>\n",
       "      <td>0</td>\n",
       "      <td>1</td>\n",
       "      <td>0</td>\n",
       "      <td>1</td>\n",
       "      <td>0</td>\n",
       "      <td>0</td>\n",
       "    </tr>\n",
       "    <tr>\n",
       "      <th>1</th>\n",
       "      <td>1983</td>\n",
       "      <td>5621</td>\n",
       "      <td>81.000</td>\n",
       "      <td>2021</td>\n",
       "      <td>374696</td>\n",
       "      <td>19.60</td>\n",
       "      <td>137.63</td>\n",
       "      <td>1</td>\n",
       "      <td>0</td>\n",
       "      <td>0</td>\n",
       "      <td>...</td>\n",
       "      <td>0</td>\n",
       "      <td>0</td>\n",
       "      <td>1</td>\n",
       "      <td>0</td>\n",
       "      <td>0</td>\n",
       "      <td>0</td>\n",
       "      <td>0</td>\n",
       "      <td>1</td>\n",
       "      <td>0</td>\n",
       "      <td>0</td>\n",
       "    </tr>\n",
       "    <tr>\n",
       "      <th>2</th>\n",
       "      <td>1982</td>\n",
       "      <td>18518</td>\n",
       "      <td>73.869</td>\n",
       "      <td>2022</td>\n",
       "      <td>367901</td>\n",
       "      <td>20.81</td>\n",
       "      <td>127.06</td>\n",
       "      <td>1</td>\n",
       "      <td>0</td>\n",
       "      <td>0</td>\n",
       "      <td>...</td>\n",
       "      <td>0</td>\n",
       "      <td>0</td>\n",
       "      <td>0</td>\n",
       "      <td>0</td>\n",
       "      <td>1</td>\n",
       "      <td>0</td>\n",
       "      <td>0</td>\n",
       "      <td>1</td>\n",
       "      <td>0</td>\n",
       "      <td>0</td>\n",
       "    </tr>\n",
       "    <tr>\n",
       "      <th>3</th>\n",
       "      <td>1982</td>\n",
       "      <td>4536</td>\n",
       "      <td>44.000</td>\n",
       "      <td>2021</td>\n",
       "      <td>327100</td>\n",
       "      <td>31.42</td>\n",
       "      <td>142.12</td>\n",
       "      <td>1</td>\n",
       "      <td>0</td>\n",
       "      <td>0</td>\n",
       "      <td>...</td>\n",
       "      <td>0</td>\n",
       "      <td>0</td>\n",
       "      <td>1</td>\n",
       "      <td>0</td>\n",
       "      <td>0</td>\n",
       "      <td>1</td>\n",
       "      <td>0</td>\n",
       "      <td>1</td>\n",
       "      <td>0</td>\n",
       "      <td>0</td>\n",
       "    </tr>\n",
       "    <tr>\n",
       "      <th>4</th>\n",
       "      <td>1982</td>\n",
       "      <td>6048</td>\n",
       "      <td>43.500</td>\n",
       "      <td>2013</td>\n",
       "      <td>592217</td>\n",
       "      <td>44.29</td>\n",
       "      <td>96.69</td>\n",
       "      <td>1</td>\n",
       "      <td>0</td>\n",
       "      <td>0</td>\n",
       "      <td>...</td>\n",
       "      <td>0</td>\n",
       "      <td>0</td>\n",
       "      <td>1</td>\n",
       "      <td>0</td>\n",
       "      <td>0</td>\n",
       "      <td>0</td>\n",
       "      <td>0</td>\n",
       "      <td>1</td>\n",
       "      <td>0</td>\n",
       "      <td>0</td>\n",
       "    </tr>\n",
       "  </tbody>\n",
       "</table>\n",
       "<p>5 rows × 23 columns</p>\n",
       "</div>"
      ],
      "text/plain": [
       "   Year Created  Area (in)  Hammer Price (USD in millions)  Year Sold  \\\n",
       "0          1982       4896                          98.000       2017   \n",
       "1          1983       5621                          81.000       2021   \n",
       "2          1982      18518                          73.869       2022   \n",
       "3          1982       4536                          44.000       2021   \n",
       "4          1982       6048                          43.500       2013   \n",
       "\n",
       "   Unique Colors   Contrast Score  Brightness Score   Painting  \\\n",
       "0          462137           36.51             117.47         1   \n",
       "1          374696           19.60             137.63         1   \n",
       "2          367901           20.81             127.06         1   \n",
       "3          327100           31.42             142.12         1   \n",
       "4          592217           44.29              96.69         1   \n",
       "\n",
       "   Colored Pencils  Felt tip  ...  Pencil  Wax Crayon  Medium  Small  Other   \\\n",
       "0                0         0  ...       0           0       1      0       0   \n",
       "1                0         0  ...       0           0       1      0       0   \n",
       "2                0         0  ...       0           0       0      0       1   \n",
       "3                0         0  ...       0           0       1      0       0   \n",
       "4                0         0  ...       0           0       1      0       0   \n",
       "\n",
       "   Sotheby's  London  New York City  Paris  Shanghai  \n",
       "0          1       0              1      0         0  \n",
       "1          0       0              1      0         0  \n",
       "2          0       0              1      0         0  \n",
       "3          1       0              1      0         0  \n",
       "4          0       0              1      0         0  \n",
       "\n",
       "[5 rows x 23 columns]"
      ]
     },
     "execution_count": 20,
     "metadata": {},
     "output_type": "execute_result"
    }
   ],
   "source": [
    "df.head()"
   ]
  },
  {
   "cell_type": "code",
   "execution_count": 21,
   "id": "cfd89232",
   "metadata": {},
   "outputs": [],
   "source": [
    "from sklearn.model_selection import train_test_split"
   ]
  },
  {
   "cell_type": "code",
   "execution_count": 22,
   "id": "43fb54fc",
   "metadata": {},
   "outputs": [],
   "source": [
    "# Split data into training and test data\n",
    "X_train, X_test, y_train, y_test = train_test_split(df.drop('Hammer Price (USD in millions)',axis=1), \n",
    "                                                    df['Hammer Price (USD in millions)'], test_size=0.30)"
   ]
  },
  {
   "cell_type": "code",
   "execution_count": 23,
   "id": "6292f3ae",
   "metadata": {},
   "outputs": [],
   "source": [
    "from sklearn.preprocessing import StandardScaler"
   ]
  },
  {
   "cell_type": "code",
   "execution_count": 24,
   "id": "44f9f921",
   "metadata": {},
   "outputs": [],
   "source": [
    "scaler = StandardScaler()"
   ]
  },
  {
   "cell_type": "code",
   "execution_count": 25,
   "id": "02b7c6e6",
   "metadata": {},
   "outputs": [
    {
     "data": {
      "text/plain": [
       "StandardScaler()"
      ]
     },
     "execution_count": 25,
     "metadata": {},
     "output_type": "execute_result"
    }
   ],
   "source": [
    "# Standardize data\n",
    "scaler.fit(X_train)"
   ]
  },
  {
   "cell_type": "code",
   "execution_count": 26,
   "id": "5327ab69",
   "metadata": {},
   "outputs": [],
   "source": [
    "from sklearn.linear_model import LinearRegression"
   ]
  },
  {
   "cell_type": "code",
   "execution_count": 27,
   "id": "85f6330d",
   "metadata": {},
   "outputs": [],
   "source": [
    "lm = LinearRegression()"
   ]
  },
  {
   "cell_type": "code",
   "execution_count": 28,
   "id": "ce4c6d4e",
   "metadata": {},
   "outputs": [
    {
     "data": {
      "text/plain": [
       "LinearRegression()"
      ]
     },
     "execution_count": 28,
     "metadata": {},
     "output_type": "execute_result"
    }
   ],
   "source": [
    "# Train model\n",
    "lm.fit(X_train,y_train)"
   ]
  },
  {
   "cell_type": "code",
   "execution_count": 29,
   "id": "12ee84f2",
   "metadata": {},
   "outputs": [],
   "source": [
    "# Test model\n",
    "predictions = lm.predict(X_test)"
   ]
  },
  {
   "cell_type": "code",
   "execution_count": 30,
   "id": "3199eaa6",
   "metadata": {},
   "outputs": [
    {
     "data": {
      "text/plain": [
       "Text(0, 0.5, 'Predicted Y')"
      ]
     },
     "execution_count": 30,
     "metadata": {},
     "output_type": "execute_result"
    },
    {
     "data": {
      "image/png": "[encoded data removed]",
      "text/plain": [
       "<Figure size 432x288 with 1 Axes>"
      ]
     },
     "metadata": {
      "needs_background": "light"
     },
     "output_type": "display_data"
    }
   ],
   "source": [
    "plt.scatter(y_test,predictions)\n",
    "plt.xlabel('Y Test')\n",
    "plt.ylabel('Predicted Y')"
   ]
  },
  {
   "cell_type": "code",
   "execution_count": 31,
   "id": "4c92a3a1",
   "metadata": {},
   "outputs": [],
   "source": [
    "from sklearn import metrics"
   ]
  },
  {
   "cell_type": "code",
   "execution_count": 32,
   "id": "eda5e04f",
   "metadata": {},
   "outputs": [
    {
     "name": "stdout",
     "output_type": "stream",
     "text": [
      "MAE: 9.00662940826507\n",
      "MSE: 217.58863280118393\n",
      "RMSE: 14.750885831067365\n"
     ]
    }
   ],
   "source": [
    "# Baseline Results\n",
    "print('MAE:', metrics.mean_absolute_error(y_test, predictions))\n",
    "print('MSE:', metrics.mean_squared_error(y_test, predictions))\n",
    "print('RMSE:', np.sqrt(metrics.mean_squared_error(y_test, predictions)))"
   ]
  }
 ],
 "metadata": {
  "kernelspec": {
   "display_name": "Python 3 (ipykernel)",
   "language": "python",
   "name": "python3"
  },
  "language_info": {
   "codemirror_mode": {
    "name": "ipython",
    "version": 3
   },
   "file_extension": ".py",
   "mimetype": "text/x-python",
   "name": "python",
   "nbconvert_exporter": "python",
   "pygments_lexer": "ipython3",
   "version": "3.9.12"
  }
 },
 "nbformat": 4,
 "nbformat_minor": 5
}
